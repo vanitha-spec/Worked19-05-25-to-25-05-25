{
 "cells": [
  {
   "cell_type": "code",
   "execution_count": 1,
   "id": "a0cbe19b-5f90-49f4-be8b-063e739c8657",
   "metadata": {},
   "outputs": [
    {
     "data": {
      "text/plain": [
       "[1, 2, 3]"
      ]
     },
     "execution_count": 1,
     "metadata": {},
     "output_type": "execute_result"
    }
   ],
   "source": [
    "l = [1,2,3]\n",
    "l"
   ]
  },
  {
   "cell_type": "code",
   "execution_count": 2,
   "id": "047a4a8c-9c70-4416-98bc-34a3626a0e86",
   "metadata": {},
   "outputs": [],
   "source": [
    "l.sort()"
   ]
  },
  {
   "cell_type": "code",
   "execution_count": 3,
   "id": "92da510a-aa78-4c32-92cf-ae31d0ed222a",
   "metadata": {},
   "outputs": [
    {
     "data": {
      "text/plain": [
       "[1, 2, 3]"
      ]
     },
     "execution_count": 3,
     "metadata": {},
     "output_type": "execute_result"
    }
   ],
   "source": [
    "l"
   ]
  },
  {
   "cell_type": "code",
   "execution_count": 4,
   "id": "59e8f5d0-fc9d-47fb-bf8e-19ec64296130",
   "metadata": {},
   "outputs": [
    {
     "data": {
      "text/plain": [
       "[20, 9, 3, 100]"
      ]
     },
     "execution_count": 4,
     "metadata": {},
     "output_type": "execute_result"
    }
   ],
   "source": [
    "l1 = [20, 9, 3, 100]\n",
    "l1"
   ]
  },
  {
   "cell_type": "code",
   "execution_count": 5,
   "id": "66061f89-c710-4494-ba2f-06af41a54024",
   "metadata": {},
   "outputs": [
    {
     "data": {
      "text/plain": [
       "[3, 9, 20, 100]"
      ]
     },
     "execution_count": 5,
     "metadata": {},
     "output_type": "execute_result"
    }
   ],
   "source": [
    "l1.sort()\n",
    "l1"
   ]
  },
  {
   "cell_type": "raw",
   "id": "a3d9717c-50d1-4a98-8ef2-286e24dc000d",
   "metadata": {},
   "source": [
    "Difference between Copy and Extend\n",
    "------------------------------------\n",
    "In copy you can from l1 to l2 \n",
    "But you cannot extend the element.\n",
    "but when you merge (l1 merge with l2) possible"
   ]
  },
  {
   "cell_type": "code",
   "execution_count": 6,
   "id": "9b6778af-39a7-4045-bbb2-5225b9644611",
   "metadata": {},
   "outputs": [
    {
     "data": {
      "text/plain": [
       "['a', 3, 3.4, (1+2j)]"
      ]
     },
     "execution_count": 6,
     "metadata": {},
     "output_type": "execute_result"
    }
   ],
   "source": [
    "l2 = ['a', 3, 3.4, 1+2j]\n",
    "l2"
   ]
  },
  {
   "cell_type": "raw",
   "id": "098a9042-b42d-45b0-82b8-18668ca2a124",
   "metadata": {},
   "source": [
    "Mixed datatype \n",
    "--------------\n",
    "Sort will not support int with string but there is a logic"
   ]
  },
  {
   "cell_type": "code",
   "execution_count": 7,
   "id": "179c9d65-911a-485c-b061-a24d360cea92",
   "metadata": {},
   "outputs": [
    {
     "data": {
      "text/plain": [
       "['z', 'm', 'a', 'd']"
      ]
     },
     "execution_count": 7,
     "metadata": {},
     "output_type": "execute_result"
    }
   ],
   "source": [
    "l3 = ['z', 'm', 'a', 'd']\n",
    "l3"
   ]
  },
  {
   "cell_type": "code",
   "execution_count": 10,
   "id": "4cb015cc-cede-485e-bb05-310c2ebb5c7a",
   "metadata": {},
   "outputs": [],
   "source": [
    "l3.sort() # It keep goes on : cool"
   ]
  },
  {
   "cell_type": "code",
   "execution_count": 9,
   "id": "fbe7ee26-0517-4331-a927-4f175677b714",
   "metadata": {},
   "outputs": [
    {
     "data": {
      "text/plain": [
       "['a', 'd', 'm', 'z']"
      ]
     },
     "execution_count": 9,
     "metadata": {},
     "output_type": "execute_result"
    }
   ],
   "source": [
    "l3"
   ]
  },
  {
   "cell_type": "code",
   "execution_count": 11,
   "id": "8ce8f572-61f4-4d0a-a0e1-fdf7301b7996",
   "metadata": {},
   "outputs": [
    {
     "data": {
      "text/plain": [
       "['z', 'm', 'd', 'a']"
      ]
     },
     "execution_count": 11,
     "metadata": {},
     "output_type": "execute_result"
    }
   ],
   "source": [
    "l3.reverse()\n",
    "l3"
   ]
  },
  {
   "cell_type": "code",
   "execution_count": 12,
   "id": "703ec37d-3f64-4efb-a4ff-75644134ce54",
   "metadata": {},
   "outputs": [
    {
     "data": {
      "text/plain": [
       "['a', 'd', 'm', 'z']"
      ]
     },
     "execution_count": 12,
     "metadata": {},
     "output_type": "execute_result"
    }
   ],
   "source": [
    "l3.reverse()\n",
    "l3"
   ]
  },
  {
   "cell_type": "code",
   "execution_count": 13,
   "id": "c85a6478-d8db-4602-95b0-828cca72edff",
   "metadata": {},
   "outputs": [
    {
     "data": {
      "text/plain": [
       "[3, 9, 20, 100]"
      ]
     },
     "execution_count": 13,
     "metadata": {},
     "output_type": "execute_result"
    }
   ],
   "source": [
    "l1"
   ]
  },
  {
   "cell_type": "code",
   "execution_count": 15,
   "id": "85f1fa70-7146-4497-ac87-f5c253181428",
   "metadata": {},
   "outputs": [
    {
     "data": {
      "text/plain": [
       "[100, 20, 9, 3]"
      ]
     },
     "execution_count": 15,
     "metadata": {},
     "output_type": "execute_result"
    }
   ],
   "source": [
    "l1.sort(reverse=True)\n",
    "l1"
   ]
  },
  {
   "cell_type": "code",
   "execution_count": 16,
   "id": "6733ffd9-69f5-498f-8b42-5a40a931a99d",
   "metadata": {},
   "outputs": [
    {
     "data": {
      "text/plain": [
       "[1, 2, 3]"
      ]
     },
     "execution_count": 16,
     "metadata": {},
     "output_type": "execute_result"
    }
   ],
   "source": [
    "l"
   ]
  },
  {
   "cell_type": "code",
   "execution_count": 17,
   "id": "40cf7f20-2bcc-4157-9fd9-96c16b26b184",
   "metadata": {},
   "outputs": [
    {
     "data": {
      "text/plain": [
       "[1, 2, 3, 'nit']"
      ]
     },
     "execution_count": 17,
     "metadata": {},
     "output_type": "execute_result"
    }
   ],
   "source": [
    "l.append('nit')\n",
    "l"
   ]
  },
  {
   "cell_type": "markdown",
   "id": "4967f35a-041f-4666-a29a-0e601765df81",
   "metadata": {},
   "source": [
    "# We completed list data structure"
   ]
  },
  {
   "cell_type": "code",
   "execution_count": 19,
   "id": "cd40b00f-dedd-45c7-8e2b-f3ce6d1c9cfe",
   "metadata": {},
   "outputs": [
    {
     "data": {
      "text/plain": [
       "'nit'"
      ]
     },
     "execution_count": 19,
     "metadata": {},
     "output_type": "execute_result"
    }
   ],
   "source": [
    "l[3]"
   ]
  },
  {
   "cell_type": "code",
   "execution_count": 20,
   "id": "22882636-f9bc-40a0-a505-72be7753b14f",
   "metadata": {},
   "outputs": [
    {
     "name": "stdout",
     "output_type": "stream",
     "text": [
      "i\n",
      "t\n"
     ]
    }
   ],
   "source": [
    "print(l[3][1])\n",
    "print(l[3][2])"
   ]
  },
  {
   "cell_type": "code",
   "execution_count": 22,
   "id": "0de790ee-3d48-4be2-8a3c-5bbeb0f9c684",
   "metadata": {},
   "outputs": [
    {
     "name": "stdout",
     "output_type": "stream",
     "text": [
      "[1, 2, 3, 'nit']\n",
      "[1, 2, 3, 'nit']\n",
      "[1, 2, 3, 'nit']\n",
      "[1, 2, 3, 'nit']\n"
     ]
    }
   ],
   "source": [
    "for i in l:\n",
    "    print(l)"
   ]
  },
  {
   "cell_type": "code",
   "execution_count": 23,
   "id": "3453f358-ae9c-4554-abd1-deab71095d41",
   "metadata": {},
   "outputs": [
    {
     "data": {
      "text/plain": [
       "[1, 2, 3, 'nit']"
      ]
     },
     "execution_count": 23,
     "metadata": {},
     "output_type": "execute_result"
    }
   ],
   "source": [
    "l"
   ]
  },
  {
   "cell_type": "code",
   "execution_count": 25,
   "id": "77e865d7-2c30-4ca6-aa7d-1136d991d34c",
   "metadata": {},
   "outputs": [
    {
     "name": "stdout",
     "output_type": "stream",
     "text": [
      "1\n",
      "2\n",
      "3\n",
      "nit\n"
     ]
    }
   ],
   "source": [
    "for i in l:\n",
    "    print(i)"
   ]
  },
  {
   "cell_type": "code",
   "execution_count": 27,
   "id": "4698c648-37d9-4111-9329-fa61241c3572",
   "metadata": {},
   "outputs": [
    {
     "name": "stdout",
     "output_type": "stream",
     "text": [
      "(0, 1)\n",
      "(1, 2)\n",
      "(2, 3)\n",
      "(3, 'nit')\n"
     ]
    }
   ],
   "source": [
    "for i in enumerate(l):\n",
    "    print(i)"
   ]
  },
  {
   "cell_type": "code",
   "execution_count": 28,
   "id": "5e67a602-ddc5-4c88-9142-fdc46c73f175",
   "metadata": {},
   "outputs": [
    {
     "data": {
      "text/plain": [
       "['a', 'd', 'm', 'z']"
      ]
     },
     "execution_count": 28,
     "metadata": {},
     "output_type": "execute_result"
    }
   ],
   "source": [
    "l3"
   ]
  },
  {
   "cell_type": "code",
   "execution_count": 29,
   "id": "7afb48f7-1854-406b-90d3-996759ea6b06",
   "metadata": {},
   "outputs": [
    {
     "name": "stdout",
     "output_type": "stream",
     "text": [
      "(0, 1)\n",
      "(1, 2)\n",
      "(2, 3)\n",
      "(3, 'nit')\n"
     ]
    }
   ],
   "source": [
    "for j in enumerate(l):\n",
    "    print(j)"
   ]
  },
  {
   "cell_type": "code",
   "execution_count": 30,
   "id": "cfdc74bb-bc3b-4d22-b329-c53d44073dd9",
   "metadata": {},
   "outputs": [
    {
     "data": {
      "text/plain": [
       "[1, 2, 3, 'nit']"
      ]
     },
     "execution_count": 30,
     "metadata": {},
     "output_type": "execute_result"
    }
   ],
   "source": [
    "l"
   ]
  },
  {
   "cell_type": "code",
   "execution_count": 31,
   "id": "fcc29169-b551-496c-bd06-6865b11b718d",
   "metadata": {},
   "outputs": [
    {
     "data": {
      "text/plain": [
       "True"
      ]
     },
     "execution_count": 31,
     "metadata": {},
     "output_type": "execute_result"
    }
   ],
   "source": [
    "all(l)"
   ]
  },
  {
   "cell_type": "code",
   "execution_count": 32,
   "id": "f2159469-c6ca-4ee3-ad52-3ee28a971b4d",
   "metadata": {},
   "outputs": [
    {
     "data": {
      "text/plain": [
       "True"
      ]
     },
     "execution_count": 32,
     "metadata": {},
     "output_type": "execute_result"
    }
   ],
   "source": [
    "any(l)"
   ]
  },
  {
   "cell_type": "code",
   "execution_count": 33,
   "id": "d5ba673f-395c-4156-b645-ea4936fd1907",
   "metadata": {},
   "outputs": [
    {
     "data": {
      "text/plain": [
       "[1, 2, 3, 'nit', 0]"
      ]
     },
     "execution_count": 33,
     "metadata": {},
     "output_type": "execute_result"
    }
   ],
   "source": [
    "l.append(0)\n",
    "l"
   ]
  },
  {
   "cell_type": "code",
   "execution_count": 34,
   "id": "bbb24b8d-a3af-4b8f-a572-e9d63b9ded20",
   "metadata": {},
   "outputs": [
    {
     "data": {
      "text/plain": [
       "False"
      ]
     },
     "execution_count": 34,
     "metadata": {},
     "output_type": "execute_result"
    }
   ],
   "source": [
    "all(l)"
   ]
  },
  {
   "cell_type": "code",
   "execution_count": 35,
   "id": "9639cfcb-8ec0-4778-94a3-74cde23e6192",
   "metadata": {},
   "outputs": [
    {
     "data": {
      "text/plain": [
       "True"
      ]
     },
     "execution_count": 35,
     "metadata": {},
     "output_type": "execute_result"
    }
   ],
   "source": [
    "any(l)"
   ]
  },
  {
   "cell_type": "markdown",
   "id": "fab95541-c03a-4fb2-886d-234deffa3957",
   "metadata": {},
   "source": [
    "# TUPLE"
   ]
  },
  {
   "cell_type": "code",
   "execution_count": 36,
   "id": "c32b8e95-bdff-4ac1-9bdb-f5904f49b9d5",
   "metadata": {},
   "outputs": [
    {
     "data": {
      "text/plain": [
       "()"
      ]
     },
     "execution_count": 36,
     "metadata": {},
     "output_type": "execute_result"
    }
   ],
   "source": [
    "t = ()\n",
    "t"
   ]
  },
  {
   "cell_type": "code",
   "execution_count": 38,
   "id": "5f52133b-88ea-44a0-98e4-f6e0ad0d56be",
   "metadata": {},
   "outputs": [
    {
     "data": {
      "text/plain": [
       "tuple"
      ]
     },
     "execution_count": 38,
     "metadata": {},
     "output_type": "execute_result"
    }
   ],
   "source": [
    "type(t)"
   ]
  },
  {
   "cell_type": "code",
   "execution_count": 39,
   "id": "68b35265-989e-4cf4-8e29-4369d3a0c658",
   "metadata": {},
   "outputs": [
    {
     "data": {
      "text/plain": [
       "(10, 20, 30, 40, 10)"
      ]
     },
     "execution_count": 39,
     "metadata": {},
     "output_type": "execute_result"
    }
   ],
   "source": [
    "t1 = (10, 20, 30, 40, 10)\n",
    "t1"
   ]
  },
  {
   "cell_type": "raw",
   "id": "98636031-8dfa-49d9-8de7-32a086c80aac",
   "metadata": {},
   "source": [
    "#Duplicates is allowed\n",
    "t1.append()\n",
    "# It is not the function\n",
    "#Only two functions are allowed\n",
    "1. Count\n",
    "2. Index\n",
    "- it will not work with any functions like copy, add, append etc.\n",
    "Tuple is used in banking your personal information storing"
   ]
  },
  {
   "cell_type": "code",
   "execution_count": 40,
   "id": "e91146ab-28b5-4773-b5de-c9ef0a802e6d",
   "metadata": {},
   "outputs": [
    {
     "data": {
      "text/plain": [
       "(10, 20, 30, 40, 10)"
      ]
     },
     "execution_count": 40,
     "metadata": {},
     "output_type": "execute_result"
    }
   ],
   "source": [
    "t1"
   ]
  },
  {
   "cell_type": "code",
   "execution_count": 41,
   "id": "c5e89170-1959-4a70-bca3-dc139aa1879d",
   "metadata": {},
   "outputs": [
    {
     "data": {
      "text/plain": [
       "1"
      ]
     },
     "execution_count": 41,
     "metadata": {},
     "output_type": "execute_result"
    }
   ],
   "source": [
    "t1.index(20)"
   ]
  },
  {
   "cell_type": "code",
   "execution_count": 42,
   "id": "f302c5bc-6fa4-4bbe-86f4-9fc1cec5dff8",
   "metadata": {},
   "outputs": [
    {
     "data": {
      "text/plain": [
       "3"
      ]
     },
     "execution_count": 42,
     "metadata": {},
     "output_type": "execute_result"
    }
   ],
   "source": [
    "t1.index(40)"
   ]
  },
  {
   "cell_type": "code",
   "execution_count": 43,
   "id": "b9154a4c-5454-49c9-9763-6f69de34af45",
   "metadata": {},
   "outputs": [
    {
     "data": {
      "text/plain": [
       "2"
      ]
     },
     "execution_count": 43,
     "metadata": {},
     "output_type": "execute_result"
    }
   ],
   "source": [
    "t1.count(10)"
   ]
  },
  {
   "cell_type": "code",
   "execution_count": 44,
   "id": "433fa252-6593-4f1d-9e18-ceefcbfb4c34",
   "metadata": {},
   "outputs": [
    {
     "data": {
      "text/plain": [
       "1"
      ]
     },
     "execution_count": 44,
     "metadata": {},
     "output_type": "execute_result"
    }
   ],
   "source": [
    "t1.count(30)"
   ]
  },
  {
   "cell_type": "code",
   "execution_count": 45,
   "id": "d9fc229d-f481-4da4-ab71-f89bc74eb9c1",
   "metadata": {},
   "outputs": [
    {
     "data": {
      "text/plain": [
       "(10, 20, 30, 40, 10)"
      ]
     },
     "execution_count": 45,
     "metadata": {},
     "output_type": "execute_result"
    }
   ],
   "source": [
    "t1"
   ]
  },
  {
   "cell_type": "code",
   "execution_count": 46,
   "id": "4fbb0f64-8af1-4897-8d7b-2304b9157df0",
   "metadata": {},
   "outputs": [
    {
     "data": {
      "text/plain": [
       "(10, 20, 30, 40, 10, 10, 20, 30, 40, 10)"
      ]
     },
     "execution_count": 46,
     "metadata": {},
     "output_type": "execute_result"
    }
   ],
   "source": [
    "t2 = t1 * 2\n",
    "t2"
   ]
  },
  {
   "cell_type": "code",
   "execution_count": 47,
   "id": "fefb165e-b921-4c68-b4ad-36df4171ae3e",
   "metadata": {},
   "outputs": [
    {
     "data": {
      "text/plain": [
       "(77997089, 'pan AIBVP80C', 987750060)"
      ]
     },
     "execution_count": 47,
     "metadata": {},
     "output_type": "execute_result"
    }
   ],
   "source": [
    "icici = (77997089, 'pan AIBVP80C', 987750060)\n",
    "icici"
   ]
  },
  {
   "cell_type": "code",
   "execution_count": 48,
   "id": "a6fb24e2-1f61-4a86-b288-c3f94f4f417a",
   "metadata": {},
   "outputs": [
    {
     "data": {
      "text/plain": [
       "10"
      ]
     },
     "execution_count": 48,
     "metadata": {},
     "output_type": "execute_result"
    }
   ],
   "source": [
    "t1[0]"
   ]
  },
  {
   "cell_type": "code",
   "execution_count": 49,
   "id": "2cd20a4c-7845-4511-9d6d-811f52e9b04b",
   "metadata": {},
   "outputs": [
    {
     "data": {
      "text/plain": [
       "[1, 2, 3, 'nit', 0]"
      ]
     },
     "execution_count": 49,
     "metadata": {},
     "output_type": "execute_result"
    }
   ],
   "source": [
    "l"
   ]
  },
  {
   "cell_type": "code",
   "execution_count": 50,
   "id": "57c901ef-f2b8-4fc9-9bf8-305551bacd3b",
   "metadata": {},
   "outputs": [
    {
     "data": {
      "text/plain": [
       "[1, 2, 3, 'nit', 0.3]"
      ]
     },
     "execution_count": 50,
     "metadata": {},
     "output_type": "execute_result"
    }
   ],
   "source": [
    "l[-1] = 0.3\n",
    "l"
   ]
  },
  {
   "cell_type": "code",
   "execution_count": 51,
   "id": "d7a0a266-598b-4356-ae7e-a86c9ff255c9",
   "metadata": {},
   "outputs": [
    {
     "data": {
      "text/plain": [
       "([1, 2, 3], 34, 5.6)"
      ]
     },
     "execution_count": 51,
     "metadata": {},
     "output_type": "execute_result"
    }
   ],
   "source": [
    "t2 = ([1,2,3], 34, 5.6)\n",
    "t2"
   ]
  },
  {
   "cell_type": "code",
   "execution_count": 52,
   "id": "fca9b1c6-178c-492c-b827-4aee957b0181",
   "metadata": {},
   "outputs": [
    {
     "data": {
      "text/plain": [
       "3"
      ]
     },
     "execution_count": 52,
     "metadata": {},
     "output_type": "execute_result"
    }
   ],
   "source": [
    "len(t2)"
   ]
  },
  {
   "cell_type": "markdown",
   "id": "6dfe4777-7d72-44bd-bcac-d8437039d130",
   "metadata": {},
   "source": [
    "# We've completed Tuple"
   ]
  },
  {
   "cell_type": "code",
   "execution_count": null,
   "id": "195f6279-a1b5-48b5-8a9a-15decd9de6f5",
   "metadata": {},
   "outputs": [],
   "source": [
    "l7 = [(1,2,3), [1,2]"
   ]
  }
 ],
 "metadata": {
  "kernelspec": {
   "display_name": "Python 3 (ipykernel)",
   "language": "python",
   "name": "python3"
  },
  "language_info": {
   "codemirror_mode": {
    "name": "ipython",
    "version": 3
   },
   "file_extension": ".py",
   "mimetype": "text/x-python",
   "name": "python",
   "nbconvert_exporter": "python",
   "pygments_lexer": "ipython3",
   "version": "3.12.7"
  }
 },
 "nbformat": 4,
 "nbformat_minor": 5
}
